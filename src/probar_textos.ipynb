{
 "cells": [
  {
   "cell_type": "code",
   "execution_count": 2,
   "id": "cf659658",
   "metadata": {},
   "outputs": [
    {
     "name": "stderr",
     "output_type": "stream",
     "text": [
      "Some weights of BertForSequenceClassification were not initialized from the model checkpoint at bert-base-multilingual-cased and are newly initialized: ['classifier.bias', 'classifier.weight']\n",
      "You should probably TRAIN this model on a down-stream task to be able to use it for predictions and inference.\n"
     ]
    },
    {
     "name": "stdout",
     "output_type": "stream",
     "text": [
      "📝 Texto: Quiero saber más sobre los servicios disponibles.\n",
      "🔎 Clasificación: Solicitud de información\n",
      "--------------------------------------------------\n",
      "📝 Texto: Gracias por la excelente atención brindada.\n",
      "🔎 Clasificación: Retroalimentación positiva\n",
      "--------------------------------------------------\n",
      "📝 Texto: El sistema falló y no pude completar mi solicitud.\n",
      "🔎 Clasificación: Solicitud de información\n",
      "--------------------------------------------------\n",
      "📝 Texto: Estoy inconforme con el trato recibido.\n",
      "🔎 Clasificación: Retroalimentación positiva\n",
      "--------------------------------------------------\n"
     ]
    }
   ],
   "source": [
    "# ===============================\n",
    "# 1. Importar librerías y artefactos\n",
    "# ===============================\n",
    "import torch\n",
    "import pickle\n",
    "from pathlib import Path\n",
    "from transformers import BertTokenizer, BertForSequenceClassification\n",
    "\n",
    "# ===============================\n",
    "# 2. Cargar modelo y tokenizer\n",
    "# ===============================\n",
    "ROOT_DIR = Path(\"..\").resolve()\n",
    "MODEL_DIR = ROOT_DIR / \"models\"\n",
    "\n",
    "tokenizer = BertTokenizer.from_pretrained(str(MODEL_DIR / \"tokenizer\"), local_files_only=True)\n",
    "model = BertForSequenceClassification.from_pretrained(\"bert-base-multilingual-cased\", num_labels=4)\n",
    "model.load_state_dict(torch.load(MODEL_DIR / \"modelo_bert_finetuned.pth\", map_location=\"cpu\"))\n",
    "model.eval()\n",
    "\n",
    "with open(MODEL_DIR / \"label_encoder.pkl\", \"rb\") as f:\n",
    "    label_encoder = pickle.load(f)\n",
    "\n",
    "# ===============================\n",
    "# 3. Textos de prueba\n",
    "# ===============================\n",
    "textos_prueba = [\n",
    "    \"Quiero saber más sobre los servicios disponibles.\",\n",
    "    \"Gracias por la excelente atención brindada.\",\n",
    "    \"El sistema falló y no pude completar mi solicitud.\",\n",
    "    \"Estoy inconforme con el trato recibido.\"\n",
    "]\n",
    "\n",
    "# ===============================\n",
    "# 4. Predecir etiquetas\n",
    "# ===============================\n",
    "inputs = tokenizer(\n",
    "    textos_prueba,\n",
    "    truncation=True,\n",
    "    padding=\"max_length\",\n",
    "    max_length=128,\n",
    "    return_tensors=\"pt\"\n",
    ")\n",
    "\n",
    "with torch.no_grad():\n",
    "    outputs = model(**inputs)\n",
    "    _, predicciones = torch.max(outputs.logits, dim=1)\n",
    "\n",
    "# ===============================\n",
    "# 5. Mostrar resultados\n",
    "# ===============================\n",
    "clases = label_encoder.inverse_transform(predicciones.numpy())\n",
    "\n",
    "for i, texto in enumerate(textos_prueba):\n",
    "    print(f\"📝 Texto: {texto}\")\n",
    "    print(f\"🔎 Clasificación: {clases[i]}\")\n",
    "    print(\"-\" * 50)\n"
   ]
  }
 ],
 "metadata": {
  "kernelspec": {
   "display_name": ".venv",
   "language": "python",
   "name": "python3"
  },
  "language_info": {
   "codemirror_mode": {
    "name": "ipython",
    "version": 3
   },
   "file_extension": ".py",
   "mimetype": "text/x-python",
   "name": "python",
   "nbconvert_exporter": "python",
   "pygments_lexer": "ipython3",
   "version": "3.11.9"
  }
 },
 "nbformat": 4,
 "nbformat_minor": 5
}
